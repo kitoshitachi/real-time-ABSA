{
 "cells": [
  {
   "cell_type": "code",
   "execution_count": 34,
   "metadata": {},
   "outputs": [
    {
     "name": "stdout",
     "output_type": "stream",
     "text": [
      "Keras weights file (<HDF5 file \"variables.h5\" (mode r+)>) saving:\n",
      "...BiLSTM\n",
      "......vars\n",
      "...BiLSTM\\backward_layer\n",
      "......vars\n",
      "...BiLSTM\\backward_layer\\cell\n",
      "......vars\n",
      ".........0\n",
      ".........1\n",
      ".........2\n",
      "...BiLSTM\\forward_layer\n",
      "......vars\n",
      "...BiLSTM\\forward_layer\\cell\n",
      "......vars\n",
      ".........0\n",
      ".........1\n",
      ".........2\n",
      "...BiLSTM\\layer\n",
      "......vars\n",
      "...BiLSTM\\layer\\cell\n",
      "......vars\n",
      "...classifiers\\dense\n",
      "......vars\n",
      ".........0\n",
      ".........1\n",
      "...classifiers\\dense_1\n",
      "......vars\n",
      ".........0\n",
      ".........1\n",
      "...classifiers\\dense_10\n",
      "......vars\n",
      ".........0\n",
      ".........1\n",
      "...classifiers\\dense_11\n",
      "......vars\n",
      ".........0\n",
      ".........1\n",
      "...classifiers\\dense_2\n",
      "......vars\n",
      ".........0\n",
      ".........1\n",
      "...classifiers\\dense_3\n",
      "......vars\n",
      ".........0\n",
      ".........1\n",
      "...classifiers\\dense_4\n",
      "......vars\n",
      ".........0\n",
      ".........1\n",
      "...classifiers\\dense_5\n",
      "......vars\n",
      ".........0\n",
      ".........1\n",
      "...classifiers\\dense_6\n",
      "......vars\n",
      ".........0\n",
      ".........1\n",
      "...classifiers\\dense_7\n",
      "......vars\n",
      ".........0\n",
      ".........1\n",
      "...classifiers\\dense_8\n",
      "......vars\n",
      ".........0\n",
      ".........1\n",
      "...classifiers\\dense_9\n",
      "......vars\n",
      ".........0\n",
      ".........1\n",
      "...concate\n",
      "......vars\n",
      "...conv_1\n",
      "......vars\n",
      ".........0\n",
      ".........1\n",
      "...conv_2\n",
      "......vars\n",
      ".........0\n",
      ".........1\n",
      "...conv_3\n",
      "......vars\n",
      ".........0\n",
      ".........1\n",
      "...dense1\n",
      "......vars\n",
      "...dense2\n",
      "......vars\n",
      ".........0\n",
      ".........1\n",
      "...dropout\n",
      "......vars\n",
      "...embedding\n",
      "......vars\n",
      ".........0\n",
      "...global_avgpool1D\n",
      "......vars\n",
      "...global_maxpool1D\n",
      "......vars\n",
      "...vars\n",
      "Keras model archive saving:\n",
      "File Name                                             Modified             Size\n",
      "config.json                                    2023-02-11 17:00:28         1035\n",
      "metadata.json                                  2023-02-11 17:00:28           64\n",
      "variables.h5                                   2023-02-11 17:00:28      3420832\n"
     ]
    }
   ],
   "source": [
    "from typing import List\n",
    "import findspark\n",
    "from my_model import BiLSTM_CNN\n",
    "findspark.init()\n",
    "from pyspark.sql import SparkSession\n",
    "from pyspark.sql import functions as F\n",
    "from settings import CATERGORIES, CHECKPOINT_PATH, KAFKA_SERVERS, LABELS, MAX_LEN, TOPIC_NAME\n",
    "from pyspark.sql.types import StructType,StructField, StringType, ArrayType, IntegerType\n",
    "import tensorflow as tf\n",
    "import tensorflow_addons as tfa\n",
    "import numpy as np\n",
    "\n",
    "scala_version = '2.13'\n",
    "spark_version = '3.3.1'\n",
    "packages = [\n",
    "    f'org.apache.spark:spark-sql-kafka-0-10_{scala_version}:{spark_version}',\n",
    "     'org.apache.kafka:kafka-clients:3.3.1'\n",
    "]\n",
    "\n",
    "spark = SparkSession.builder.master(\"local\")\\\n",
    "        .appName(\"ABSA\")\\\n",
    "        .config(\"spark.jars.packages\", \",\".join(packages))\\\n",
    "        .getOrCreate()\n",
    "# Reduce logging\n",
    "sc = spark.sparkContext \n",
    "\n",
    "sc.setLogLevel(\"OFF\")\n",
    "\n",
    "\n",
    "model = BiLSTM_CNN()\n",
    "model.build((None, MAX_LEN))\n",
    "optimizer = tfa.optimizers.RectifiedAdam(total_steps=10000, warmup_proportion=0.1, min_lr=1e-5)\n",
    "list_loss = ['categorical_crossentropy' for _ in range(len(CATERGORIES))]\n",
    "model.compile(loss = list_loss, optimizer=optimizer, metrics=['accuracy'])\n",
    "model.load_weights(CHECKPOINT_PATH).expect_partial()\n",
    "\n",
    "model_bc = sc.broadcast(model)\n",
    "# tokenizer_bc = sc.broadcast(INPUT_TOKERNIZER)\n",
    "settings_bc = sc.broadcast({\n",
    "        'MAX_LEN':MAX_LEN,\n",
    "        'CATERGORIES':CATERGORIES,\n",
    "        'LABELS':LABELS\n",
    "})\n",
    "\n",
    "def get_result(vector:List[int]):\n",
    "    # text = clean_doc(text)\n",
    "    # origin = text\n",
    "    # text = tokenizer_bc.value.texts_to_sequences([text])\n",
    "    # text = pad_sequences(text, settings_bc.value['MAX_LEN'], padding=\"post\").tolist()\n",
    "    vector = tf.convert_to_tensor([vector])\n",
    "    #predict\n",
    "    predict = model_bc.value.predict(vector, verbose=0)\n",
    "    predict = ['{'+ f'{settings_bc.value[\"CATERGORIES\"][id]}, {settings_bc.value[\"LABELS\"][np.argmax(label)]}' +'}'\n",
    "                     for id, label in enumerate(predict) if np.argmax(label)]\n",
    "    \n",
    "    predict = \"{\" + \", \".join(predict) +\"}\"\n",
    "    # print(f'\\n{predict}\\n =====================\\n')\n",
    "    return predict\n",
    "\n",
    "udf_get_result = F.udf(get_result,StringType())\n"
   ]
  },
  {
   "cell_type": "code",
   "execution_count": 35,
   "metadata": {},
   "outputs": [
    {
     "data": {
      "text/html": [
       "\n",
       "            <div>\n",
       "                <p><b>SparkSession - in-memory</b></p>\n",
       "                \n",
       "        <div>\n",
       "            <p><b>SparkContext</b></p>\n",
       "\n",
       "            <p><a href=\"http://Vampire:4040\">Spark UI</a></p>\n",
       "\n",
       "            <dl>\n",
       "              <dt>Version</dt>\n",
       "                <dd><code>v3.3.1</code></dd>\n",
       "              <dt>Master</dt>\n",
       "                <dd><code>local</code></dd>\n",
       "              <dt>AppName</dt>\n",
       "                <dd><code>ABSA</code></dd>\n",
       "            </dl>\n",
       "        </div>\n",
       "        \n",
       "            </div>\n",
       "        "
      ],
      "text/plain": [
       "<pyspark.sql.session.SparkSession at 0x1b424144310>"
      ]
     },
     "execution_count": 35,
     "metadata": {},
     "output_type": "execute_result"
    }
   ],
   "source": [
    "spark"
   ]
  },
  {
   "cell_type": "code",
   "execution_count": 36,
   "metadata": {},
   "outputs": [],
   "source": [
    "from settings import INPUT_TOKERNIZER\n",
    "from typing import List\n",
    "tokenizer_bc = sc.broadcast(INPUT_TOKERNIZER)\n",
    "\n",
    "def short_vector(vector:List[int]):\n",
    "    while vector[-1] == 0:\n",
    "        vector.pop()\n",
    "    return vector\n",
    "\n",
    "udf_short_vector = F.udf(short_vector,ArrayType(IntegerType()))\n",
    "\n",
    "def vector2text(vector:List[int]):\n",
    "    text:str = tokenizer_bc.value.sequences_to_texts([vector])\n",
    "    # return \" \".join(text[0])\n",
    "    return text\n",
    "\n",
    "udf_vector2text = F.udf(vector2text,StringType())"
   ]
  },
  {
   "cell_type": "code",
   "execution_count": 37,
   "metadata": {},
   "outputs": [],
   "source": [
    "from utils import clean_doc\n",
    "from keras.utils import pad_sequences\n",
    "\n",
    "def test(text:str):\n",
    "    text = clean_doc(text)\n",
    "    text = INPUT_TOKERNIZER.texts_to_sequences([text])\n",
    "    text = pad_sequences(text, 96, padding=\"post\").tolist()\n",
    "    text = tf.convert_to_tensor(text)\n",
    "    #predict\n",
    "    predict = model.predict(text, verbose=0)\n",
    "    predict = ['{'+ f'{settings_bc.value[\"CATERGORIES\"][id]}, {settings_bc.value[\"LABELS\"][np.argmax(label)]}' +'}'\n",
    "                     for id, label in enumerate(predict) if np.argmax(label)]\n",
    "    \n",
    "    predict = \"{\" + \", \".join(predict) +\"}\"\n",
    "    return predict"
   ]
  },
  {
   "cell_type": "code",
   "execution_count": 38,
   "metadata": {},
   "outputs": [],
   "source": [
    "# Thức ăn rất ngon, nêm nếm vừa ăn, khẩu phần ăn nhiều."
   ]
  },
  {
   "cell_type": "code",
   "execution_count": 39,
   "metadata": {},
   "outputs": [
    {
     "data": {
      "text/plain": [
       "'{{SERVICE#GENERAL, negative}, {RESTAURANT#GENERAL, negative}}'"
      ]
     },
     "execution_count": 39,
     "metadata": {},
     "output_type": "execute_result"
    }
   ],
   "source": [
    "test('Nhân viên nhiệt tình nhưng mà quán đông nên cũng phải chờ khá lâu nếu kêu thêm gì đó.')"
   ]
  },
  {
   "cell_type": "code",
   "execution_count": 40,
   "metadata": {},
   "outputs": [
    {
     "data": {
      "text/plain": [
       "['không gian ấm cúng sang trọng mà cổ điển UNK UNK UNK UNK']"
      ]
     },
     "execution_count": 40,
     "metadata": {},
     "output_type": "execute_result"
    }
   ],
   "source": [
    "tokenizer_bc.value.sequences_to_texts([[6, 51, 347, 482, 270, 406, 20, 610, 1114,1,1,1,1]])"
   ]
  },
  {
   "cell_type": "code",
   "execution_count": 41,
   "metadata": {},
   "outputs": [],
   "source": [
    "kafkaDf = spark.read.format(\"kafka\")\\\n",
    "    .option(\"kafka.bootstrap.servers\", KAFKA_SERVERS)\\\n",
    "    .option(\"subscribe\", TOPIC_NAME)\\\n",
    "    .option(\"startingOffsets\", \"earliest\")\\\n",
    "    .load()\n",
    "\n",
    "query = kafkaDf\\\n",
    "    .select(\n",
    "        F.col('key').cast('string').alias('review_id'),\n",
    "        F.split(F.col('value').cast('string'),\",\").cast(ArrayType(IntegerType())).alias('vector'),\n",
    "        # udf_get_result(F.col('value').cast('string')).alias('predict')\n",
    "    )#.printSchema()\n",
    "\n"
   ]
  },
  {
   "cell_type": "code",
   "execution_count": 42,
   "metadata": {},
   "outputs": [],
   "source": [
    "query1 = query.select(\n",
    "    F.col('review_id'),\n",
    "    udf_short_vector(F.col('vector')).alias('short_vector'),\n",
    "    udf_get_result(F.col('vector')).alias('predict'),\n",
    ")#.printSchema()\n",
    "query2 = query1.select(\n",
    "    F.col('review_id'),\n",
    "    udf_vector2text(F.col('short_vector')).alias('text'),\n",
    "    F.col('predict'),\n",
    "    # F.col('short_vector'),\n",
    ")"
   ]
  },
  {
   "cell_type": "code",
   "execution_count": 43,
   "metadata": {},
   "outputs": [
    {
     "name": "stdout",
     "output_type": "stream",
     "text": [
      "+----------+-----------------------------------------------------------------------------------------------------------------------------------------------------------------------------------------------------------------+------------------------------------------------------------+\n",
      "|review_id |text                                                                                                                                                                                                             |predict                                                     |\n",
      "+----------+-----------------------------------------------------------------------------------------------------------------------------------------------------------------------------------------------------------------+------------------------------------------------------------+\n",
      "|1871981006|[thức ăn khá ngon và các bạn phục vụ nhiệt tình đặc biệt các bạn UNK nhất tinh nhất và hiếu phục vụ vui vẻ]                                                                                                      |{{SERVICE#GENERAL, positive}, {FOOD#QUALITY, positive}}     |\n",
      "|2871891010|[không gian ấm cúng sang trọng mà cổ điển]                                                                                                                                                                       |{{AMBIENCE#GENERAL, positive}}                              |\n",
      "|1871154859|[nhà hàng có không gian sang trọng rộng rãi và thoải mái]                                                                                                                                                        |{{AMBIENCE#GENERAL, positive}}                              |\n",
      "|1870601946|[hôm nay tôi cùng gia đình đã có trải nghiệm tuyệt vời tại việt kitchen cảm ơn sự hỗ trợ từ liên và UNK]                                                                                                         |{}                                                          |\n",
      "|1870410413|[good UNK nice service]                                                                                                                                                                                          |{}                                                          |\n",
      "|1870409514|[có anh UNK quản lý anh kha thu ngân cũng rất chuyên nghiệp]                                                                                                                                                     |{{SERVICE#GENERAL, positive}}                               |\n",
      "|2870409514|[bên cạnh đó là các món ăn chưa được đa dạng nhưng vẫn đảm bảo chất lượng]                                                                                                                                       |{{FOOD#STYLE&OPTIONS, positive}, {FOOD#QUALITY, negative}}  |\n",
      "|1871891010|[thức ăn rất ngon tươi hợp khẩu vị phục vụ nhiệt tình]                                                                                                                                                           |{{SERVICE#GENERAL, positive}, {FOOD#QUALITY, positive}}     |\n",
      "|1870502951|[một vài đồ ăn co vị hơi mặn]                                                                                                                                                                                    |{{FOOD#STYLE&OPTIONS, negative}, {FOOD#QUALITY, negative}}  |\n",
      "|2870502951|[mon lẩu hơi chua]                                                                                                                                                                                               |{{FOOD#QUALITY, neutral}}                                   |\n",
      "|3871891010|[cảm ơn các bạn hào tinh quyết hoàn đã rất chuyên nghiệp chu đáo tận tình trong cách phục vụ]                                                                                                                    |{{SERVICE#GENERAL, positive}}                               |\n",
      "|1871889996|[cảm bạn các bạn nhân viên đã phục vụ rất chu đáo UNK UNK quyết kha UNK bảo]                                                                                                                                     |{{SERVICE#GENERAL, positive}}                               |\n",
      "|1871889890|[sạch sẽ phục vụ chu đáo dễ thương món ăn ngon]                                                                                                                                                                  |{{SERVICE#GENERAL, positive}, {FOOD#QUALITY, positive}}     |\n",
      "|1871486311|[nhà hàng có view ăn sáng nhìn ra sông bạch đằng rất đẹp]                                                                                                                                                        |{{LOCATION#GENERAL, positive}, {AMBIENCE#GENERAL, positive}}|\n",
      "|1871262573|[buffet hải sản tối ở việt kitchen rất là ngon UNK đã rất vui vì đã chọn nhà hàng bởi vì em cùng với các anh chị đã có một tiệc họp mặt với nhau rất vui]                                                        |{{FOOD#QUALITY, positive}, {RESTAURANT#GENERAL, positive}}  |\n",
      "|1871243362|[nhà hàng trang trí UNK rất đẹp mắt]                                                                                                                                                                             |{{AMBIENCE#GENERAL, positive}}                              |\n",
      "|1870601400|[một buổi tối tuyệt vời tại UNK kitchen UNK và kha chào mừng gia đình tôi ban đầu cực kỳ nhiệt tình khi dùng bữa thì tôi không cần phải làm gì đã có hào và nhất đã hỗ trợ hết mình cho tôi và gia đình của mình]|{{RESTAURANT#GENERAL, positive}}                            |\n",
      "|1870503160|[tôi và con gái đã có buổi tối tại nhà hàng việt kitchen]                                                                                                                                                        |{{RESTAURANT#GENERAL, negative}}                            |\n",
      "|3870502951|[UNK UNK UNK hào]                                                                                                                                                                                                |{}                                                          |\n",
      "|4870502951|[UNK ban UNK vien UNK UNK UNK]                                                                                                                                                                                   |{{RESTAURANT#MISCELLANEOUS, neutral}}                       |\n",
      "|3870409514|[và cuối cùng là các bạn phục vụ còn lại như hào UNK UNK tinh khôi UNK UNK]                                                                                                                                      |{{SERVICE#GENERAL, neutral}}                                |\n",
      "+----------+-----------------------------------------------------------------------------------------------------------------------------------------------------------------------------------------------------------------+------------------------------------------------------------+\n",
      "\n",
      "None\n"
     ]
    }
   ],
   "source": [
    "print(query2.show(21, truncate=False))"
   ]
  }
 ],
 "metadata": {
  "kernelspec": {
   "display_name": "base",
   "language": "python",
   "name": "python3"
  },
  "language_info": {
   "codemirror_mode": {
    "name": "ipython",
    "version": 3
   },
   "file_extension": ".py",
   "mimetype": "text/x-python",
   "name": "python",
   "nbconvert_exporter": "python",
   "pygments_lexer": "ipython3",
   "version": "3.9.12"
  },
  "orig_nbformat": 4,
  "vscode": {
   "interpreter": {
    "hash": "5ae58900cfbb8c43ab3495913814b7cf26024f51651a94ce8bf64d6111688e8d"
   }
  }
 },
 "nbformat": 4,
 "nbformat_minor": 2
}
